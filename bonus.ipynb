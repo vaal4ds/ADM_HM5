{
 "cells": [
  {
   "cell_type": "markdown",
   "id": "4dd28ccc",
   "metadata": {},
   "source": [
    "## Bonus Question - Connected Components on MapReduce"
   ]
  },
  {
   "cell_type": "code",
   "execution_count": 1,
   "id": "b4955f9c-3f28-4971-8c72-38fbb6948b7f",
   "metadata": {},
   "outputs": [],
   "source": [
    "import pandas as pd\n",
    "import networkx as nx\n",
    "import matplotlib.pyplot as plt\n",
    "from collections import defaultdict\n",
    "import community as community_louvain"
   ]
  },
  {
   "cell_type": "code",
   "execution_count": 8,
   "id": "c2ba72ef-8979-4b05-a4a4-d7ed39cd7a09",
   "metadata": {
    "scrolled": true
   },
   "outputs": [
    {
     "name": "stderr",
     "output_type": "stream",
     "text": [
      "Setting default log level to \"WARN\".\n",
      "To adjust logging level use sc.setLogLevel(newLevel). For SparkR, use setLogLevel(newLevel).\n",
      "24/12/28 21:18:27 WARN NativeCodeLoader: Unable to load native-hadoop library for your platform... using builtin-java classes where applicable\n",
      "[Stage 131:================================================>(16347 + 8) / 16376]\r"
     ]
    },
    {
     "name": "stdout",
     "output_type": "stream",
     "text": [
      "Number of connected components: 5\n",
      "Size of each component: [('B', 1), ('A', 1), ('C', 1), ('E', 1), ('D', 1)]\n",
      "Airports in the largest connected component: ['A']\n"
     ]
    },
    {
     "name": "stderr",
     "output_type": "stream",
     "text": [
      "                                                                                \r"
     ]
    }
   ],
   "source": [
    "from pyspark import SparkContext, SparkConf\n",
    "from datetime import datetime\n",
    "\n",
    "def find_connected_components(flight_data, start_date, end_date):\n",
    "    # Convert input dates to datetime\n",
    "    start_date = datetime.strptime(start_date, \"%Y-%m-%d\")\n",
    "    end_date = datetime.strptime(end_date, \"%Y-%m-%d\")\n",
    "    \n",
    "    # Step 1: Filter data for the date range\n",
    "    filtered_data = flight_data.filter(lambda x: start_date <= datetime.strptime(x['Fly_date'], \"%Y-%m-%d\") <= end_date)\n",
    "\n",
    "    # Step 2: Create the adjacency list (Graph representation)\n",
    "    edges = filtered_data.flatMap(lambda x: [(x['Origin_airport'], x['Destination_airport']),\n",
    "                                             (x['Destination_airport'], x['Origin_airport'])]).distinct()\n",
    "\n",
    "    # Step 3: Initialize each node with itself as the label\n",
    "    nodes = edges.flatMap(lambda x: [x[0], x[1]]).distinct()\n",
    "    labels = nodes.map(lambda x: (x, x))\n",
    "\n",
    "    # Step 4: Iteratively propagate labels until convergence\n",
    "    for _ in range(10):  # Limiting iterations to 10 as a stopping condition\n",
    "        # Join edges with labels\n",
    "        joined = edges.join(labels).map(lambda x: (x[1][0], x[1][1]))\n",
    "        \n",
    "        # Reduce by the smallest label in each neighborhood\n",
    "        new_labels = joined.reduceByKey(lambda x, y: min(x, y))\n",
    "        \n",
    "        # Update labels\n",
    "        labels = labels.join(new_labels).mapValues(lambda x: min(x))\n",
    "\n",
    "    # Step 5: Group nodes by their labels to find connected components\n",
    "    connected_components = labels.groupByKey().mapValues(list)\n",
    "    \n",
    "    # Number of connected components\n",
    "    num_components = connected_components.count()\n",
    "    \n",
    "    # Size of each component\n",
    "    component_sizes = connected_components.mapValues(len).collect()\n",
    "    \n",
    "    # Find the largest connected component\n",
    "    largest_component = connected_components.mapValues(len).max(key=lambda x: x[1])\n",
    "    largest_component_airports = connected_components.filter(lambda x: x[0] == largest_component[0]).flatMap(lambda x: x[1]).collect()\n",
    "\n",
    "    return num_components, component_sizes, largest_component_airports\n",
    "\n",
    "# Example Usage\n",
    "if __name__ == \"__main__\":\n",
    "    conf = SparkConf().setAppName(\"ConnectedComponents\").setMaster(\"local[*]\")\n",
    "    sc = SparkContext(conf=conf)\n",
    "\n",
    "    # Load flight data as an RDD of dictionaries\n",
    "    flight_data = sc.parallelize([\n",
    "        {'Origin_airport': 'A', 'Destination_airport': 'B', 'Fly_date': '2024-01-01'},\n",
    "        {'Origin_airport': 'B', 'Destination_airport': 'C', 'Fly_date': '2024-01-02'},\n",
    "        {'Origin_airport': 'D', 'Destination_airport': 'E', 'Fly_date': '2024-01-03'},\n",
    "        # Add more entries as needed\n",
    "    ])\n",
    "\n",
    "    # Define the date range\n",
    "    start_date = \"2024-01-01\"\n",
    "    end_date = \"2024-01-31\"\n",
    "\n",
    "    # Call the function\n",
    "    num_components, component_sizes, largest_component_airports = find_connected_components(flight_data, start_date, end_date)\n",
    "    print(\"Number of connected components:\", num_components)\n",
    "    print(\"Size of each component:\", component_sizes)\n",
    "    print(\"Airports in the largest connected component:\", largest_component_airports)\n"
   ]
  },
  {
   "cell_type": "code",
   "execution_count": 12,
   "id": "ddfeec98-121f-4971-bf63-6202c2dd309e",
   "metadata": {},
   "outputs": [
    {
     "name": "stderr",
     "output_type": "stream",
     "text": [
      "[Stage 263:================================================>(16352 + 8) / 16376]\r"
     ]
    },
    {
     "name": "stdout",
     "output_type": "stream",
     "text": [
      "Custom Implementation Execution Time: 1628.475653886795 seconds\n"
     ]
    },
    {
     "name": "stderr",
     "output_type": "stream",
     "text": [
      "                                                                                \r"
     ]
    }
   ],
   "source": [
    "import time\n",
    "\n",
    "start_time = time.time()\n",
    "num_components, component_sizes, largest_component_airports = find_connected_components(flight_data, start_date, end_date)\n",
    "custom_time = time.time() - start_time\n",
    "print(f\"Custom Implementation Execution Time: {custom_time} seconds\")\n"
   ]
  },
  {
   "cell_type": "code",
   "execution_count": 26,
   "id": "fd64f371-ee7f-4f4f-95d3-b2289229f15c",
   "metadata": {},
   "outputs": [
    {
     "name": "stderr",
     "output_type": "stream",
     "text": [
      "24/12/28 22:20:36 WARN SparkSession: Using an existing Spark session; only runtime SQL configurations will take effect.\n",
      "/opt/anaconda3/lib/python3.12/site-packages/pyspark/sql/dataframe.py:168: UserWarning: DataFrame.sql_ctx is an internal property, and will be removed in future releases. Use DataFrame.sparkSession instead.\n",
      "  warnings.warn(\n"
     ]
    },
    {
     "ename": "Py4JJavaError",
     "evalue": "An error occurred while calling o1955.loadClass.\n: java.lang.ClassNotFoundException: org.graphframes.GraphFramePythonAPI\n\tat java.net.URLClassLoader.findClass(URLClassLoader.java:387)\n\tat java.lang.ClassLoader.loadClass(ClassLoader.java:418)\n\tat java.lang.ClassLoader.loadClass(ClassLoader.java:351)\n\tat sun.reflect.NativeMethodAccessorImpl.invoke0(Native Method)\n\tat sun.reflect.NativeMethodAccessorImpl.invoke(NativeMethodAccessorImpl.java:62)\n\tat sun.reflect.DelegatingMethodAccessorImpl.invoke(DelegatingMethodAccessorImpl.java:43)\n\tat java.lang.reflect.Method.invoke(Method.java:498)\n\tat py4j.reflection.MethodInvoker.invoke(MethodInvoker.java:244)\n\tat py4j.reflection.ReflectionEngine.invoke(ReflectionEngine.java:374)\n\tat py4j.Gateway.invoke(Gateway.java:282)\n\tat py4j.commands.AbstractCommand.invokeMethod(AbstractCommand.java:132)\n\tat py4j.commands.CallCommand.execute(CallCommand.java:79)\n\tat py4j.ClientServerConnection.waitForCommands(ClientServerConnection.java:182)\n\tat py4j.ClientServerConnection.run(ClientServerConnection.java:106)\n\tat java.lang.Thread.run(Thread.java:750)\n",
     "output_type": "error",
     "traceback": [
      "\u001b[0;31m---------------------------------------------------------------------------\u001b[0m",
      "\u001b[0;31mPy4JJavaError\u001b[0m                             Traceback (most recent call last)",
      "Cell \u001b[0;32mIn[26], line 45\u001b[0m\n\u001b[1;32m     43\u001b[0m \u001b[38;5;66;03m# Measure execution time for GraphFrames\u001b[39;00m\n\u001b[1;32m     44\u001b[0m start_time \u001b[38;5;241m=\u001b[39m time\u001b[38;5;241m.\u001b[39mtime()\n\u001b[0;32m---> 45\u001b[0m result_df \u001b[38;5;241m=\u001b[39m graphframes_connected_components(flight_data, start_date, end_date)\n\u001b[1;32m     46\u001b[0m graphframes_time \u001b[38;5;241m=\u001b[39m time\u001b[38;5;241m.\u001b[39mtime() \u001b[38;5;241m-\u001b[39m start_time\n\u001b[1;32m     47\u001b[0m \u001b[38;5;28mprint\u001b[39m(\u001b[38;5;124mf\u001b[39m\u001b[38;5;124m\"\u001b[39m\u001b[38;5;124mGraphFrames Execution Time: \u001b[39m\u001b[38;5;132;01m{\u001b[39;00mgraphframes_time\u001b[38;5;132;01m}\u001b[39;00m\u001b[38;5;124m seconds\u001b[39m\u001b[38;5;124m\"\u001b[39m)\n",
      "Cell \u001b[0;32mIn[26], line 21\u001b[0m, in \u001b[0;36mgraphframes_connected_components\u001b[0;34m(flight_data, start_date, end_date)\u001b[0m\n\u001b[1;32m     18\u001b[0m vertices_df \u001b[38;5;241m=\u001b[39m spark\u001b[38;5;241m.\u001b[39mcreateDataFrame(vertices_df\u001b[38;5;241m.\u001b[39mmap(\u001b[38;5;28;01mlambda\u001b[39;00m x: (x,)), [\u001b[38;5;124m\"\u001b[39m\u001b[38;5;124mid\u001b[39m\u001b[38;5;124m\"\u001b[39m])\n\u001b[1;32m     20\u001b[0m \u001b[38;5;66;03m# Create the GraphFrame\u001b[39;00m\n\u001b[0;32m---> 21\u001b[0m graph \u001b[38;5;241m=\u001b[39m GraphFrame(vertices_df, edges_df)\n\u001b[1;32m     23\u001b[0m \u001b[38;5;66;03m# Run connected components\u001b[39;00m\n\u001b[1;32m     24\u001b[0m result \u001b[38;5;241m=\u001b[39m graph\u001b[38;5;241m.\u001b[39mconnectedComponents()\n",
      "File \u001b[0;32m/opt/anaconda3/lib/python3.12/site-packages/graphframes/graphframe.py:65\u001b[0m, in \u001b[0;36mGraphFrame.__init__\u001b[0;34m(self, v, e)\u001b[0m\n\u001b[1;32m     63\u001b[0m \u001b[38;5;28mself\u001b[39m\u001b[38;5;241m.\u001b[39m_sqlContext \u001b[38;5;241m=\u001b[39m v\u001b[38;5;241m.\u001b[39msql_ctx\n\u001b[1;32m     64\u001b[0m \u001b[38;5;28mself\u001b[39m\u001b[38;5;241m.\u001b[39m_sc \u001b[38;5;241m=\u001b[39m \u001b[38;5;28mself\u001b[39m\u001b[38;5;241m.\u001b[39m_sqlContext\u001b[38;5;241m.\u001b[39m_sc\n\u001b[0;32m---> 65\u001b[0m \u001b[38;5;28mself\u001b[39m\u001b[38;5;241m.\u001b[39m_jvm_gf_api \u001b[38;5;241m=\u001b[39m _java_api(\u001b[38;5;28mself\u001b[39m\u001b[38;5;241m.\u001b[39m_sc)\n\u001b[1;32m     67\u001b[0m \u001b[38;5;28mself\u001b[39m\u001b[38;5;241m.\u001b[39mID \u001b[38;5;241m=\u001b[39m \u001b[38;5;28mself\u001b[39m\u001b[38;5;241m.\u001b[39m_jvm_gf_api\u001b[38;5;241m.\u001b[39mID()\n\u001b[1;32m     68\u001b[0m \u001b[38;5;28mself\u001b[39m\u001b[38;5;241m.\u001b[39mSRC \u001b[38;5;241m=\u001b[39m \u001b[38;5;28mself\u001b[39m\u001b[38;5;241m.\u001b[39m_jvm_gf_api\u001b[38;5;241m.\u001b[39mSRC()\n",
      "File \u001b[0;32m/opt/anaconda3/lib/python3.12/site-packages/graphframes/graphframe.py:38\u001b[0m, in \u001b[0;36m_java_api\u001b[0;34m(jsc)\u001b[0m\n\u001b[1;32m     36\u001b[0m \u001b[38;5;28;01mdef\u001b[39;00m \u001b[38;5;21m_java_api\u001b[39m(jsc):\n\u001b[1;32m     37\u001b[0m     javaClassName \u001b[38;5;241m=\u001b[39m \u001b[38;5;124m\"\u001b[39m\u001b[38;5;124morg.graphframes.GraphFramePythonAPI\u001b[39m\u001b[38;5;124m\"\u001b[39m\n\u001b[0;32m---> 38\u001b[0m     \u001b[38;5;28;01mreturn\u001b[39;00m jsc\u001b[38;5;241m.\u001b[39m_jvm\u001b[38;5;241m.\u001b[39mThread\u001b[38;5;241m.\u001b[39mcurrentThread()\u001b[38;5;241m.\u001b[39mgetContextClassLoader()\u001b[38;5;241m.\u001b[39mloadClass(javaClassName) \\\n\u001b[1;32m     39\u001b[0m             \u001b[38;5;241m.\u001b[39mnewInstance()\n",
      "File \u001b[0;32m/opt/anaconda3/lib/python3.12/site-packages/py4j/java_gateway.py:1322\u001b[0m, in \u001b[0;36mJavaMember.__call__\u001b[0;34m(self, *args)\u001b[0m\n\u001b[1;32m   1316\u001b[0m command \u001b[38;5;241m=\u001b[39m proto\u001b[38;5;241m.\u001b[39mCALL_COMMAND_NAME \u001b[38;5;241m+\u001b[39m\\\n\u001b[1;32m   1317\u001b[0m     \u001b[38;5;28mself\u001b[39m\u001b[38;5;241m.\u001b[39mcommand_header \u001b[38;5;241m+\u001b[39m\\\n\u001b[1;32m   1318\u001b[0m     args_command \u001b[38;5;241m+\u001b[39m\\\n\u001b[1;32m   1319\u001b[0m     proto\u001b[38;5;241m.\u001b[39mEND_COMMAND_PART\n\u001b[1;32m   1321\u001b[0m answer \u001b[38;5;241m=\u001b[39m \u001b[38;5;28mself\u001b[39m\u001b[38;5;241m.\u001b[39mgateway_client\u001b[38;5;241m.\u001b[39msend_command(command)\n\u001b[0;32m-> 1322\u001b[0m return_value \u001b[38;5;241m=\u001b[39m get_return_value(\n\u001b[1;32m   1323\u001b[0m     answer, \u001b[38;5;28mself\u001b[39m\u001b[38;5;241m.\u001b[39mgateway_client, \u001b[38;5;28mself\u001b[39m\u001b[38;5;241m.\u001b[39mtarget_id, \u001b[38;5;28mself\u001b[39m\u001b[38;5;241m.\u001b[39mname)\n\u001b[1;32m   1325\u001b[0m \u001b[38;5;28;01mfor\u001b[39;00m temp_arg \u001b[38;5;129;01min\u001b[39;00m temp_args:\n\u001b[1;32m   1326\u001b[0m     \u001b[38;5;28;01mif\u001b[39;00m \u001b[38;5;28mhasattr\u001b[39m(temp_arg, \u001b[38;5;124m\"\u001b[39m\u001b[38;5;124m_detach\u001b[39m\u001b[38;5;124m\"\u001b[39m):\n",
      "File \u001b[0;32m/opt/anaconda3/lib/python3.12/site-packages/pyspark/errors/exceptions/captured.py:179\u001b[0m, in \u001b[0;36mcapture_sql_exception.<locals>.deco\u001b[0;34m(*a, **kw)\u001b[0m\n\u001b[1;32m    177\u001b[0m \u001b[38;5;28;01mdef\u001b[39;00m \u001b[38;5;21mdeco\u001b[39m(\u001b[38;5;241m*\u001b[39ma: Any, \u001b[38;5;241m*\u001b[39m\u001b[38;5;241m*\u001b[39mkw: Any) \u001b[38;5;241m-\u001b[39m\u001b[38;5;241m>\u001b[39m Any:\n\u001b[1;32m    178\u001b[0m     \u001b[38;5;28;01mtry\u001b[39;00m:\n\u001b[0;32m--> 179\u001b[0m         \u001b[38;5;28;01mreturn\u001b[39;00m f(\u001b[38;5;241m*\u001b[39ma, \u001b[38;5;241m*\u001b[39m\u001b[38;5;241m*\u001b[39mkw)\n\u001b[1;32m    180\u001b[0m     \u001b[38;5;28;01mexcept\u001b[39;00m Py4JJavaError \u001b[38;5;28;01mas\u001b[39;00m e:\n\u001b[1;32m    181\u001b[0m         converted \u001b[38;5;241m=\u001b[39m convert_exception(e\u001b[38;5;241m.\u001b[39mjava_exception)\n",
      "File \u001b[0;32m/opt/anaconda3/lib/python3.12/site-packages/py4j/protocol.py:326\u001b[0m, in \u001b[0;36mget_return_value\u001b[0;34m(answer, gateway_client, target_id, name)\u001b[0m\n\u001b[1;32m    324\u001b[0m value \u001b[38;5;241m=\u001b[39m OUTPUT_CONVERTER[\u001b[38;5;28mtype\u001b[39m](answer[\u001b[38;5;241m2\u001b[39m:], gateway_client)\n\u001b[1;32m    325\u001b[0m \u001b[38;5;28;01mif\u001b[39;00m answer[\u001b[38;5;241m1\u001b[39m] \u001b[38;5;241m==\u001b[39m REFERENCE_TYPE:\n\u001b[0;32m--> 326\u001b[0m     \u001b[38;5;28;01mraise\u001b[39;00m Py4JJavaError(\n\u001b[1;32m    327\u001b[0m         \u001b[38;5;124m\"\u001b[39m\u001b[38;5;124mAn error occurred while calling \u001b[39m\u001b[38;5;132;01m{0}\u001b[39;00m\u001b[38;5;132;01m{1}\u001b[39;00m\u001b[38;5;132;01m{2}\u001b[39;00m\u001b[38;5;124m.\u001b[39m\u001b[38;5;130;01m\\n\u001b[39;00m\u001b[38;5;124m\"\u001b[39m\u001b[38;5;241m.\u001b[39m\n\u001b[1;32m    328\u001b[0m         \u001b[38;5;28mformat\u001b[39m(target_id, \u001b[38;5;124m\"\u001b[39m\u001b[38;5;124m.\u001b[39m\u001b[38;5;124m\"\u001b[39m, name), value)\n\u001b[1;32m    329\u001b[0m \u001b[38;5;28;01melse\u001b[39;00m:\n\u001b[1;32m    330\u001b[0m     \u001b[38;5;28;01mraise\u001b[39;00m Py4JError(\n\u001b[1;32m    331\u001b[0m         \u001b[38;5;124m\"\u001b[39m\u001b[38;5;124mAn error occurred while calling \u001b[39m\u001b[38;5;132;01m{0}\u001b[39;00m\u001b[38;5;132;01m{1}\u001b[39;00m\u001b[38;5;132;01m{2}\u001b[39;00m\u001b[38;5;124m. Trace:\u001b[39m\u001b[38;5;130;01m\\n\u001b[39;00m\u001b[38;5;132;01m{3}\u001b[39;00m\u001b[38;5;130;01m\\n\u001b[39;00m\u001b[38;5;124m\"\u001b[39m\u001b[38;5;241m.\u001b[39m\n\u001b[1;32m    332\u001b[0m         \u001b[38;5;28mformat\u001b[39m(target_id, \u001b[38;5;124m\"\u001b[39m\u001b[38;5;124m.\u001b[39m\u001b[38;5;124m\"\u001b[39m, name, value))\n",
      "\u001b[0;31mPy4JJavaError\u001b[0m: An error occurred while calling o1955.loadClass.\n: java.lang.ClassNotFoundException: org.graphframes.GraphFramePythonAPI\n\tat java.net.URLClassLoader.findClass(URLClassLoader.java:387)\n\tat java.lang.ClassLoader.loadClass(ClassLoader.java:418)\n\tat java.lang.ClassLoader.loadClass(ClassLoader.java:351)\n\tat sun.reflect.NativeMethodAccessorImpl.invoke0(Native Method)\n\tat sun.reflect.NativeMethodAccessorImpl.invoke(NativeMethodAccessorImpl.java:62)\n\tat sun.reflect.DelegatingMethodAccessorImpl.invoke(DelegatingMethodAccessorImpl.java:43)\n\tat java.lang.reflect.Method.invoke(Method.java:498)\n\tat py4j.reflection.MethodInvoker.invoke(MethodInvoker.java:244)\n\tat py4j.reflection.ReflectionEngine.invoke(ReflectionEngine.java:374)\n\tat py4j.Gateway.invoke(Gateway.java:282)\n\tat py4j.commands.AbstractCommand.invokeMethod(AbstractCommand.java:132)\n\tat py4j.commands.CallCommand.execute(CallCommand.java:79)\n\tat py4j.ClientServerConnection.waitForCommands(ClientServerConnection.java:182)\n\tat py4j.ClientServerConnection.run(ClientServerConnection.java:106)\n\tat java.lang.Thread.run(Thread.java:750)\n"
     ]
    }
   ],
   "source": [
    "from pyspark.sql import SparkSession\n",
    "from graphframes import GraphFrame\n",
    "\n",
    "def graphframes_connected_components(flight_data, start_date, end_date):\n",
    "    # Convert input dates to datetime\n",
    "    start_date = datetime.strptime(start_date, \"%Y-%m-%d\")\n",
    "    end_date = datetime.strptime(end_date, \"%Y-%m-%d\")\n",
    "\n",
    "    # Filter the flight data by the date range\n",
    "    filtered_data = flight_data.filter(lambda x: start_date <= datetime.strptime(x['Fly_date'], \"%Y-%m-%d\") <= end_date)\n",
    "\n",
    "    # Create the edges DataFrame\n",
    "    edges_df = filtered_data.map(lambda x: (x['Origin_airport'], x['Destination_airport'])).distinct()\n",
    "    edges_df = spark.createDataFrame(edges_df, [\"src\", \"dst\"])\n",
    "\n",
    "    # Create the vertices DataFrame\n",
    "    vertices_df = filtered_data.flatMap(lambda x: [x['Origin_airport'], x['Destination_airport']]).distinct()\n",
    "    vertices_df = spark.createDataFrame(vertices_df.map(lambda x: (x,)), [\"id\"])\n",
    "\n",
    "    # Create the GraphFrame\n",
    "    graph = GraphFrame(vertices_df, edges_df)\n",
    "\n",
    "    # Run connected components\n",
    "    result = graph.connectedComponents()\n",
    "\n",
    "    return result\n",
    "\n",
    "# Example Usage with Timing\n",
    "if __name__ == \"__main__\":\n",
    "    spark = SparkSession.builder.appName(\"ConnectedComponentsGraphFrames\").getOrCreate()\n",
    "    \n",
    "    # Load flight data as an RDD of dictionaries\n",
    "    flight_data = sc.parallelize([\n",
    "        {'Origin_airport': 'A', 'Destination_airport': 'B', 'Fly_date': '2024-01-01'},\n",
    "        {'Origin_airport': 'B', 'Destination_airport': 'C', 'Fly_date': '2024-01-02'},\n",
    "        {'Origin_airport': 'D', 'Destination_airport': 'E', 'Fly_date': '2024-01-03'},\n",
    "        # Add more entries as needed\n",
    "    ])\n",
    "\n",
    "    start_date = \"2024-01-01\"\n",
    "    end_date = \"2024-01-31\"\n",
    "\n",
    "    # Measure execution time for GraphFrames\n",
    "    start_time = time.time()\n",
    "    result_df = graphframes_connected_components(flight_data, start_date, end_date)\n",
    "    graphframes_time = time.time() - start_time\n",
    "    print(f\"GraphFrames Execution Time: {graphframes_time} seconds\")\n"
   ]
  }
 ],
 "metadata": {
  "kernelspec": {
   "display_name": "Python 3",
   "language": "python",
   "name": "python3"
  },
  "language_info": {
   "codemirror_mode": {
    "name": "ipython",
    "version": 3
   },
   "file_extension": ".py",
   "mimetype": "text/x-python",
   "name": "python",
   "nbconvert_exporter": "python",
   "pygments_lexer": "ipython3",
   "version": "3.12.3"
  }
 },
 "nbformat": 4,
 "nbformat_minor": 5
}
