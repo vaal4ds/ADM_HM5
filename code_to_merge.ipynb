{
 "cells": [
  {
   "cell_type": "code",
   "execution_count": 4,
   "metadata": {},
   "outputs": [
    {
     "name": "stdout",
     "output_type": "stream",
     "text": [
      "Notebooks merged successfully into 'merged_notebook1.ipynb'.\n"
     ]
    }
   ],
   "source": [
    "import nbformat\n",
    "\n",
    "# List your notebooks\n",
    "notebooks = ['merged_notebook.ipynb', 'bonus.ipynb','adm_algo_hw5-2.ipynb']\n",
    "\n",
    "# Initialize the merged notebook with an empty structure\n",
    "merged_notebook1 = nbformat.v4.new_notebook()\n",
    "\n",
    "# Iterate through notebooks and merge\n",
    "for notebook in notebooks:\n",
    "    with open(notebook, 'r', encoding='utf-8') as f:\n",
    "        nb = nbformat.read(f, as_version=4)\n",
    "        merged_notebook1.cells.extend(nb.cells)  # Append the cells\n",
    "\n",
    "# Write the merged notebook to a new file\n",
    "with open('merged_notebook1.ipynb', 'w', encoding='utf-8') as f:\n",
    "    nbformat.write(merged_notebook1, f)\n",
    "\n",
    "print(\"Notebooks merged successfully into 'merged_notebook1.ipynb'.\")"
   ]
  }
 ],
 "metadata": {
  "kernelspec": {
   "display_name": "Python 3",
   "language": "python",
   "name": "python3"
  },
  "language_info": {
   "codemirror_mode": {
    "name": "ipython",
    "version": 3
   },
   "file_extension": ".py",
   "mimetype": "text/x-python",
   "name": "python",
   "nbconvert_exporter": "python",
   "pygments_lexer": "ipython3",
   "version": "3.12.3"
  }
 },
 "nbformat": 4,
 "nbformat_minor": 2
}
