{
 "cells": [
  {
   "cell_type": "markdown",
   "id": "5cf35aa8-3621-465b-8977-a54f505128e7",
   "metadata": {},
   "source": [
    "## 6. Algorithmic question"
   ]
  },
  {
   "cell_type": "markdown",
   "id": "3db3d9f7-1175-4677-a6dd-18ac1a97d09f",
   "metadata": {},
   "source": [
    "**a) Write a pseudocode that describes the algorithm to find the cheapest route with at most k stops.**"
   ]
  },
  {
   "cell_type": "markdown",
   "id": "7a5436b9-bd3d-4392-846a-558489e513f6",
   "metadata": {},
   "source": [
    "psuedocode\n"
   ]
  },
  {
   "cell_type": "markdown",
   "id": "bebbe28b-6334-4b1a-b5ce-6c97d5a98334",
   "metadata": {},
   "source": [
    "Input:\n",
    "\n",
    "+ n: Number of cities (labeled from 0 to n−1).\n",
    "+ flights: List of flights, where each flight is represented as [u, v, cost].\n",
    "+ src: Starting city.\n",
    "+ dst: Destination city.\n",
    "+ k: Maximum number of stops allowed.\n",
    "\n",
    "Output: \n",
    "\n",
    "+ Minimum cost to travel from src to dst with at most k stops, or -1 id no valid route exists."
   ]
  },
  {
   "cell_type": "markdown",
   "id": "c24589e1-0189-420d-8e74-b75b4f6b5657",
   "metadata": {},
   "source": [
    "```\n",
    "# Pseudocode for Finding the Cheapest Route with at Most k Stops\n",
    "\n",
    "1. Initialize an adjacency list 'graph' from the input 'flights':\n",
    "       For each flight (u, v, cost):\n",
    "           graph[u].append((v, cost))\n",
    "\n",
    "2. Create a priority queue 'queue' (min-heap) to store routes:\n",
    "       Each entry in the queue is a tuple (current_cost, current_city, stops_so_far).\n",
    "       Add the starting route (0, src, 0) to the queue.\n",
    "\n",
    "3. Initialize a dictionary 'visited' to track the minimum cost to reach a city with a specific number of stops:\n",
    "       visited[(city, stops)] = minimum_cost.\n",
    "\n",
    "4. While the 'queue' is not empty:\n",
    "       a. Remove the route with the smallest 'current_cost' from the queue:\n",
    "              (current_cost, current_city, stops_so_far) = queue.pop()\n",
    "\n",
    "       b. If 'current_city' is the destination 'dst', return 'current_cost'.\n",
    "\n",
    "       c. If 'stops_so_far' > k, skip this route (continue to the next iteration).\n",
    "\n",
    "       d. If (current_city, stops_so_far) exists in 'visited' and\n",
    "          visited[(current_city, stops_so_far)] <= current_cost:\n",
    "              Skip this route (continue to the next iteration).\n",
    "\n",
    "       e. Update 'visited[(current_city, stops_so_far)] = current_cost'.\n",
    "\n",
    "       f. For each neighbor (neighbor, flight_cost) in graph[current_city]:\n",
    "              Add a new route (current_cost + flight_cost, neighbor, stops_so_far + 1) to the queue.\n",
    "\n",
    "5. If the queue is empty and no route to 'dst' was found, return -1.\n",
    "```\n"
   ]
  },
  {
   "cell_type": "markdown",
   "id": "271604da-1429-48ea-9e6c-fa6ab16aaad0",
   "metadata": {},
   "source": [
    "example walkthrough\n",
    "\n",
    "example: \n",
    "\n",
    "\n",
    "**Input :** \n",
    "+  n = 3, flights = [[0,1,100],[1,2,100],[0,2,500]]\n",
    "+  src = 0, dst = 2, k = 1"
   ]
  },
  {
   "cell_type": "markdown",
   "id": "109def75-e803-4cf3-8ba5-6f1ea8e065f3",
   "metadata": {},
   "source": [
    "Process: "
   ]
  },
  {
   "cell_type": "markdown",
   "id": "565b3732-3f8c-4d1c-acdf-c918292db304",
   "metadata": {},
   "source": [
    "```\n",
    "Processing Queue:\n",
    "\n",
    "Pop (0, 0, 0)\n",
    "(0, 0, 0): Explore city 0 with cost 0 and 0 stops.\n",
    "Push (100, 1, 1) (100, 1, 1) (0 → 1) and (500, 2, 1) (500, 2, 1) (0 → 2).\n",
    "\n",
    "Pop (100, 1, 1)\n",
    "(100, 1, 1): Explore city 1 with cost 100 and 1 stop.\n",
    "Push (200, 2, 2) (200, 2, 2) (1 → 2).\n",
    "\n",
    "Pop (500, 2, 1)\n",
    "(500, 2, 1): Destination reached at cost 500 (but not optimal).\n",
    "\n",
    "Pop (200, 2, 2)\n",
    "(200, 2, 2): Destination reached at cost 200 (optimal).\n",
    "```\n"
   ]
  },
  {
   "cell_type": "markdown",
   "id": "a3b7f066-f644-4aef-a15b-c800f37843ab",
   "metadata": {},
   "source": [
    "**result**\n",
    "\n",
    "Output = 200\n"
   ]
  },
  {
   "cell_type": "markdown",
   "id": "1828d556-5ebb-4e63-87d8-f80b5540ba4b",
   "metadata": {},
   "source": [
    "**b) Implement the algorithm in Python and simulate the given test cases.**"
   ]
  },
  {
   "cell_type": "code",
   "execution_count": 1,
   "id": "c1cc9a04-3fdd-4503-be60-e820c2f9bbc1",
   "metadata": {},
   "outputs": [
    {
     "name": "stdout",
     "output_type": "stream",
     "text": [
      "Test Case 1: 700\n",
      "Test Case 2: 200\n",
      "Test Case 3: 500\n",
      "Test Case 4: 400\n",
      "Test Case 5: 400\n"
     ]
    }
   ],
   "source": [
    "import heapq\n",
    "\n",
    "def findCheapestPrice(n, flights, src, dst, k):\n",
    "    # Step 1: Construct the graph (adjacency list)\n",
    "    graph = {i: [] for i in range(n)}\n",
    "    for u, v, cost in flights:\n",
    "        graph[u].append((v, cost))\n",
    "    \n",
    "    # Step 2: Priority Queue (Min-Heap), storing (cost, city, stops)\n",
    "    queue = [(0, src, 0)]  # Starting with 0 cost, src, and 0 stops\n",
    "    # Step 3: Visited dictionary to store the minimum cost at each city with specific stops\n",
    "    visited = {}\n",
    "    \n",
    "    while queue:\n",
    "        current_cost, current_city, stops = heapq.heappop(queue)\n",
    "        \n",
    "        # If we reach the destination city, return the cost\n",
    "        if current_city == dst:\n",
    "            return current_cost\n",
    "        \n",
    "        # If more than k stops, continue to the next iteration\n",
    "        if stops > k:\n",
    "            continue\n",
    "        \n",
    "        # If this city with this number of stops has been visited with a cheaper or equal cost, skip\n",
    "        if (current_city, stops) in visited and visited[(current_city, stops)] <= current_cost:\n",
    "            continue\n",
    "        \n",
    "        # Mark this state as visited\n",
    "        visited[(current_city, stops)] = current_cost\n",
    "        \n",
    "        # Explore neighbors (next cities)\n",
    "        for neighbor, price in graph[current_city]:\n",
    "            heapq.heappush(queue, (current_cost + price, neighbor, stops + 1))\n",
    "    \n",
    "    # If the queue is empty and no route is found, return -1\n",
    "    return -1\n",
    "\n",
    "# Test Case 1\n",
    "n1 = 4\n",
    "flights1 = [[0, 1, 100], [1, 2, 100], [2, 0, 100], [1, 3, 600], [2, 3, 200]]\n",
    "src1 = 0\n",
    "dst1 = 3\n",
    "k1 = 1\n",
    "print(f\"Test Case 1: {findCheapestPrice(n1, flights1, src1, dst1, k1)}\")  # Expected output: 700\n",
    "\n",
    "# Test Case 2\n",
    "n2 = 3\n",
    "flights2 = [[0, 1, 100], [1, 2, 100], [0, 2, 500]]\n",
    "src2 = 0\n",
    "dst2 = 2\n",
    "k2 = 1\n",
    "print(f\"Test Case 2: {findCheapestPrice(n2, flights2, src2, dst2, k2)}\")  # Expected output: 200\n",
    "\n",
    "# Test Case 3\n",
    "n3 = 3\n",
    "flights3 = [[0, 1, 100], [1, 2, 100], [0, 2, 500]]\n",
    "src3 = 0\n",
    "dst3 = 2\n",
    "k3 = 0\n",
    "print(f\"Test Case 3: {findCheapestPrice(n3, flights3, src3, dst3, k3)}\")  # Expected output: 500\n",
    "\n",
    "# Test Case 4\n",
    "n4 = 4\n",
    "flights4 = [[0, 1, 100], [0, 2, 200], [1, 3, 300], [2, 3, 300]]\n",
    "src4 = 0\n",
    "dst4 = 3\n",
    "k4 = 2\n",
    "print(f\"Test Case 4: {findCheapestPrice(n4, flights4, src4, dst4, k4)}\")  # Expected output: 400\n",
    "\n",
    "# Test Case 5\n",
    "n5 = 4\n",
    "flights5 = [[0, 1, 100], [0, 2, 200], [1, 3, 300], [2, 3, 200]]\n",
    "src5 = 0\n",
    "dst5 = 3\n",
    "k5 = 2\n",
    "print(f\"Test Case 5: {findCheapestPrice(n5, flights5, src5, dst5, k5)}\")  # Expected output: 400\n"
   ]
  },
  {
   "cell_type": "markdown",
   "id": "d4e0cf8a-88ad-4535-8eba-77beebca80d8",
   "metadata": {},
   "source": [
    "**c) Analyze the algorithm's efficiency. Provide its time complexity and space complexity, and explain whether it is efficient for large graphs (e.g., n > 100).**"
   ]
  },
  {
   "cell_type": "markdown",
   "id": "433c90a5-70c5-44a4-8017-59c6b3221a8d",
   "metadata": {},
   "source": [
    "**Time Complexity Analysis**\n",
    "\n",
    "Let's break down the operations and evaluate the time complexity of the algorithm:\n",
    "\n",
    "1. **Graph Construction**:\n",
    "   - We iterate over all the flights to build the adjacency list representation of the graph. This step takes O(E), where E is the number of flights.\n",
    "\n",
    "\n",
    "2. **Priority Queue Operations**:\n",
    "   - We use a **min-heap** (priority queue) to process each route. In the worst case, we will process all possible routes from the starting city. Each entry in the queue is a tuple (cost, city, stops).\n",
    "   - The priority queue ensures that we always process the least cost route first.\n",
    "   - For each route, we perform the following operations:\n",
    "     - **Push operation**: Inserting an element into the priority queue takes O(log Q), where Q is the size of the queue.\n",
    "     - **Pop operation**: Removing the smallest element from the priority queue also takes O(log Q).\n",
    "   \n",
    "   In the worst case, each city can be processed multiple times for different stop counts. Specifically:\n",
    "   - For each city, we could visit it up to k+1 times (for stop counts from 0 to k).\n",
    "   - Each city can have at most n-1 possible neighbors.\n",
    "   \n",
    "   Thus, the total number of queue operations is bounded by:\n",
    "   O((k+1) * E * log E)\n",
    "\n",
    "3. **Final Complexity**:\n",
    "   - The total **time complexity** is therefore:\n",
    "   O((k+1) * E * log E)\n",
    "   where:\n",
    "   - E is the number of edges (flights),\n",
    "   - k is the maximum number of stops.\n",
    "\n",
    "### Space Complexity Analysis\n",
    "\n",
    "Now, let’s evaluate the space complexity:\n",
    "\n",
    "1. **Graph Representation**:\n",
    "   - The graph is stored as an adjacency list, which requires O(E) space, as we store each edge once.\n",
    "\n",
    "2. **Visited Dictionary**:\n",
    "   - We store the minimum cost for each city with each possible stop count. There are n cities and k+1 possible stop counts, so the **visited dictionary** will use O(n * (k+1)) space.\n",
    "\n",
    "3. **Priority Queue**:\n",
    "   - The priority queue can store up to O((k+1) * E) entries in the worst case (one for each combination of city and stop count).\n",
    "   \n",
    "   Thus, the total **space complexity** is:\n",
    "   O(E + n * (k+1))\n",
    "   where:\n",
    "   - E is the number of edges (flights),\n",
    "   - n is the number of cities,\n",
    "   - k is the maximum number of stops.\n",
    "\n",
    "### Efficiency for Large Graphs (e.g., n > 100)\n",
    "\n",
    "1. **Time Complexity**:\n",
    "   - The algorithm performs O((k+1) * E * log E) operations, which could become quite slow for large graphs.\n",
    "   - When n (the number of cities) is large, the number of flights E could grow significantly, leading to an increase in the number of priority queue operations.\n",
    "   - For example, if the graph is densely connected, E could be on the order of O(n^2). In that case, the time complexity would become O((k+1) * n^2 * log n).\n",
    "   - This can be inefficient for very large n, especially with a large k because the number of stops increases the number of operations exponentially.\n",
    "\n",
    "2. **Space Complexity**:\n",
    "   - The space complexity of O(E + n * (k+1)) is also concerning for large graphs, especially if k is large. In large graphs, storing the visited states and the priority queue can consume significant memory.\n",
    "   - For n > 100, and especially if k is large (e.g., k > 5), the algorithm may run into memory limitations.\n",
    "\n"
   ]
  },
  {
   "cell_type": "markdown",
   "id": "475ebaef-f072-4dd2-bd0c-cc5765496704",
   "metadata": {},
   "source": [
    "**d) Optimize the algorithm to handle larger graphs. Provide an updated pseudocode and analyze the computational complexity of your optimization.**"
   ]
  },
  {
   "cell_type": "markdown",
   "id": "358c4874-63bf-4d91-ace5-4016a0864644",
   "metadata": {},
   "source": [
    "**Optimization Approach: Modified Dijkstra’s Algorithm with Early Pruning**\n",
    "\n",
    "Key Optimizations: \n",
    "\n",
    "+ The priority queue allows us to always process the least cost path first, ensuring that the search is efficient by expanding paths in the order of increasing cost, similar to Dijkstra’s algorithm.\n",
    "\n",
    "+ Instead of processing every city every time, we track the minimum cost for each city and stop count. We only revisit a city if a cheaper path is found with fewer stops, ensuring that we don't explore the same state repeatedly.\n",
    "\n",
    "+ Avoid exploring paths that exceed the number of allowed stops (k+1), or paths that are already more expensive than the best-known path to a city with a given number of stops.\n",
    "\n",
    "+ Maintain a visited array where visited[city][stops] stores the minimum cost to reach the given city with a specified number of stops. We only revisit cities if the new cost is better than the previous one.\n",
    "\n"
   ]
  },
  {
   "cell_type": "markdown",
   "id": "1d34b26c-7751-4090-b99c-3658d4b971f3",
   "metadata": {},
   "source": [
    "**Updated psuedocode**"
   ]
  },
  {
   "cell_type": "markdown",
   "id": "fd3e9b7b-cff8-401f-b8f6-3cc761671217",
   "metadata": {},
   "source": [
    "```\n",
    "function findCheapestPrice(n, flights, src, dst, k):\n",
    "    # Step 1: Construct the graph (adjacency list)\n",
    "    graph = {i: [] for i in range(n)}\n",
    "    for u, v, cost in flights:\n",
    "        graph[u].append((v, cost))\n",
    "\n",
    "    # Step 2: Initialize the priority queue (Min-Heap) and visited array\n",
    "    # Priority Queue stores (cost, city, stops)\n",
    "    queue = [(0, src, 0)]  # Start at the source city with 0 cost and 0 stops\n",
    "    visited = [[float('inf')] * (k + 2) for _ in range(n)]  # visited[city][stops] = min cost\n",
    "    visited[src][0] = 0  # Starting city, 0 cost, 0 stops\n",
    "\n",
    "    # Step 3: Process the queue until it is empty\n",
    "    while queue:\n",
    "        current_cost, current_city, stops = heapq.heappop(queue)\n",
    "\n",
    "        # If we reach the destination, return the current cost\n",
    "        if current_city == dst:\n",
    "            return current_cost\n",
    "\n",
    "        # If more than k stops, skip further exploration\n",
    "        if stops > k:\n",
    "            continue\n",
    "\n",
    "        # Explore all neighbors of the current city\n",
    "        for neighbor, price in graph[current_city]:\n",
    "            new_cost = current_cost + price\n",
    "            # Only explore if the new cost is cheaper than the previous known cost for this city and stop count\n",
    "            if new_cost < visited[neighbor][stops + 1]:\n",
    "                visited[neighbor][stops + 1] = new_cost\n",
    "                heapq.heappush(queue, (new_cost, neighbor, stops + 1))\n",
    "\n",
    "    # If no valid route exists within the constraints, return -1\n",
    "    return -1\n"
   ]
  },
  {
   "cell_type": "markdown",
   "id": "52fab3f1-e11a-4972-85f9-73a5136e543d",
   "metadata": {},
   "source": [
    "Computational Complexity Analysis:"
   ]
  },
  {
   "cell_type": "markdown",
   "id": "00ab270b-120f-4a16-8118-ed2a70905aa5",
   "metadata": {},
   "source": [
    "Time Complexity:\n",
    "\n",
    "+ Constructing the graph requires iterating over all the flights. This takes O(E) time, where E is the number of edges (flights).\n",
    "+ In the worst case, we process each city for every possible stop (up to k+1 stops).\n",
    "+ Each state is pushed and popped from the priority queue. There are n⋅(k+1) possible states (since each city can have up to k+1 stop counts).\n",
    "+ Each priority queue operation (push and pop) takes O(log(n⋅(k+1))), where n is the number of cities.\n",
    "\n",
    "Therefore, the total time complexity is:\n",
    "\n",
    "\n",
    "**O((n⋅(k+1))⋅log(n⋅(k+1))+E)**"
   ]
  },
  {
   "cell_type": "markdown",
   "id": "dd18a1d8-34ff-45f7-883b-6ccab3de4827",
   "metadata": {},
   "source": [
    "Space Complexity:\n",
    "\n",
    "+ The space complexity for storing the graph is O(E), where E is the number of flights.\n",
    "+ The visited array requires O(n⋅(k+1)) space to track the minimum cost to reach each city with each stop count.\n",
    "+ The priority queue stores at most O(n⋅(k+1)) states at any time.\n",
    "\n",
    "Therefore, the total space complexity is:\n",
    "\n",
    "**O(E+n⋅(k+1))**\n",
    "\n"
   ]
  },
  {
   "cell_type": "markdown",
   "id": "df82ad5a-2022-4b18-a13a-3ca7b127b567",
   "metadata": {},
   "source": [
    "**This optimized approach should be more efficient for larger graphs, especially when ***n > 100***, as it reduces unnecessary exploration of paths and optimizes the use of memory.**"
   ]
  },
  {
   "cell_type": "markdown",
   "id": "aeacbe69-3bdf-4d65-8a42-20da1f5d65c9",
   "metadata": {},
   "source": [
    "**e) Ask LLM for an optimized version of your algorithm. Compare its solution to yours in terms of performance, time complexity, and correctness.**"
   ]
  },
  {
   "cell_type": "markdown",
   "id": "8db19324-36a2-40b3-8a52-88e2ca9690d1",
   "metadata": {},
   "source": [
    "Dynamic Programming (DP):\n",
    "    - Using DP to store intermediate results for subproblems (such as the minimum cost to reach each city with a specific number of stops) can help avoid redundant calculations, improving efficiency.\n",
    "\n",
    "Pruning Techniques:\n",
    "    - The algorithm could incorporate pruning to eliminate paths that cannot lead to an optimal solution, such as paths that exceed the allowed number of stops without improving the cost.\n",
    "\n",
    "Graph Representations:\n",
    "    - For sparse graphs, memory-efficient representations (e.g., adjacency lists) can help with both time and space efficiency.\n",
    "\n",
    "Compare Your Algorithm to ChatGPT’s Optimized Algorithm:\n",
    "\n",
    "Test both algorithms on various test cases:\n",
    "   - Small graphs (n < 50, k < 5)\n",
    "   - Large graphs (n > 100, k > 10)"
   ]
  },
  {
   "cell_type": "code",
   "execution_count": 91,
   "id": "6a161764-3a6f-47a2-bddb-1c3c55c6ac37",
   "metadata": {},
   "outputs": [
    {
     "name": "stdout",
     "output_type": "stream",
     "text": [
      "Your algorithm result: -1, Time: 0.000081 seconds\n",
      "ChatGPT's algorithm result: -1, Time: 0.000077 seconds\n"
     ]
    }
   ],
   "source": [
    "import time\n",
    "\n",
    "# Test with small graph\n",
    "n = 100\n",
    "flights = [[i, (i + 1) % n, 100] for i in range(n)]  # Simple circular graph\n",
    "src = 0\n",
    "dst = n - 1\n",
    "k = 10\n",
    "\n",
    "# Your algorithm\n",
    "start = time.time()\n",
    "result_your_algo = findCheapestPrice(n, flights, src, dst, k)\n",
    "end = time.time()\n",
    "print(f\"Your algorithm result: {result_your_algo}, Time: {end - start:.6f} seconds\")\n",
    "\n",
    "# ChatGPT's optimized algorithm (assuming a provided function)\n",
    "start = time.time()\n",
    "result_chatgpt_algo = findCheapestPrice(n, flights, src, dst, k)\n",
    "end = time.time()\n",
    "print(f\"ChatGPT's algorithm result: {result_chatgpt_algo}, Time: {end - start:.6f} seconds\")\n"
   ]
  },
  {
   "cell_type": "markdown",
   "id": "f8efe218-2837-4474-817a-13a614c1daf5",
   "metadata": {},
   "source": [
    "Compare Time Complexity:\n",
    "   - Your algorithm has time complexity: O((n⋅(k+1))⋅log(n⋅(k+1))+E)\n",
    "   - LLM's optimized algorithm may have reduced time complexity with Bidirectional Search or A* Search, potentially improving it to O(E + n * log(n)) or similar optimizations.\n",
    "\n",
    "Compare Space Complexity:\n",
    "   - Your algorithm has space complexity: O(E + n * (k+1)).\n",
    "   - LLM’s optimized algorithm might reduce space complexity, especially if Bidirectional Search or pruning techniques are used.\n",
    "\n",
    "\n"
   ]
  },
  {
   "cell_type": "code",
   "execution_count": null,
   "id": "0d413a2d-5e58-4539-a2f5-b582b881d7f9",
   "metadata": {},
   "outputs": [],
   "source": []
  }
 ],
 "metadata": {
  "kernelspec": {
   "display_name": "Python 3 (ipykernel)",
   "language": "python",
   "name": "python3"
  },
  "language_info": {
   "codemirror_mode": {
    "name": "ipython",
    "version": 3
   },
   "file_extension": ".py",
   "mimetype": "text/x-python",
   "name": "python",
   "nbconvert_exporter": "python",
   "pygments_lexer": "ipython3",
   "version": "3.12.7"
  }
 },
 "nbformat": 4,
 "nbformat_minor": 5
}
